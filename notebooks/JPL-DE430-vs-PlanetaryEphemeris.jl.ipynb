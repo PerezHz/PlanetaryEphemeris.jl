{
 "cells": [
  {
   "cell_type": "markdown",
   "metadata": {},
   "source": [
    "# JPL DE430 and PlanetaryEphemeris.jl"
   ]
  },
  {
   "cell_type": "code",
   "execution_count": null,
   "metadata": {},
   "outputs": [],
   "source": [
    "versioninfo()"
   ]
  },
  {
   "cell_type": "code",
   "execution_count": null,
   "metadata": {},
   "outputs": [],
   "source": [
    ";pwd"
   ]
  },
  {
   "cell_type": "code",
   "execution_count": null,
   "metadata": {},
   "outputs": [],
   "source": [
    "]st"
   ]
  },
  {
   "cell_type": "code",
   "execution_count": null,
   "metadata": {},
   "outputs": [],
   "source": [
    "using Revise"
   ]
  },
  {
   "cell_type": "code",
   "execution_count": null,
   "metadata": {},
   "outputs": [],
   "source": [
    "using PlanetaryEphemeris"
   ]
  },
  {
   "cell_type": "code",
   "execution_count": null,
   "metadata": {
    "scrolled": true
   },
   "outputs": [],
   "source": [
    "using TaylorIntegration\n",
    "using Dates, LinearAlgebra"
   ]
  },
  {
   "cell_type": "code",
   "execution_count": null,
   "metadata": {
    "hidden": true
   },
   "outputs": [],
   "source": [
    "using SPICE"
   ]
  },
  {
   "cell_type": "code",
   "execution_count": null,
   "metadata": {
    "hidden": true
   },
   "outputs": [],
   "source": [
    "furnsh(\"/Users/Jorge/projects/jpleph/de430_1850-2150.bsp\")"
   ]
  },
  {
   "cell_type": "code",
   "execution_count": null,
   "metadata": {},
   "outputs": [],
   "source": [
    "furnsh(\"/Users/Jorge/projects/jpleph/naif0012.tls\")"
   ]
  },
  {
   "cell_type": "code",
   "execution_count": null,
   "metadata": {},
   "outputs": [],
   "source": [
    "furnsh(\"/Users/Jorge/projects/jpleph/ast343de430.bsp\")"
   ]
  },
  {
   "cell_type": "code",
   "execution_count": null,
   "metadata": {},
   "outputs": [],
   "source": [
    "furnsh(\"/Users/Jorge/projects/jpleph/TTmTDB.de430.19feb2015.bsp\")"
   ]
  },
  {
   "cell_type": "code",
   "execution_count": null,
   "metadata": {},
   "outputs": [],
   "source": [
    "using Statistics"
   ]
  },
  {
   "cell_type": "code",
   "execution_count": null,
   "metadata": {},
   "outputs": [],
   "source": [
    "using JLD2"
   ]
  },
  {
   "cell_type": "code",
   "execution_count": null,
   "metadata": {},
   "outputs": [],
   "source": [
    "#eulang_de430 = load(\"../eph/moon_pa_de430_2000_2036_et.jld\", \"eulang_de430\");\n",
    "#eulang_de430 = load(\"/Users/Jorge/.julia/dev/JPLEphemeris/moon_pa_de430_1969_2069_et.jld\", \"eulang_de430\");"
   ]
  },
  {
   "cell_type": "markdown",
   "metadata": {},
   "source": [
    "## Load ephemeris from file"
   ]
  },
  {
   "cell_type": "code",
   "execution_count": null,
   "metadata": {},
   "outputs": [],
   "source": [
    "#ss16ast_eph_fwd_fname = \"sseph343ast016_p6y_et.jld\"\n",
    "#ss16ast_eph_fwd_fname = \"sseph343ast016_p31y_et_1969Jun28.jld\"\n",
    "#ss16ast_eph_fwd_fname = \"sseph343ast016_p30y_et_J2000.jld\"\n",
    "ss16ast_eph_fwd_fname = \"sseph343ast016_p100y_et.jld2\"\n",
    "@time ss16ast_eph_fwd = load(ss16ast_eph_fwd_fname, \"ss16ast_eph\");"
   ]
  },
  {
   "cell_type": "code",
   "execution_count": null,
   "metadata": {},
   "outputs": [],
   "source": [
    "day0 = ss16ast_eph_fwd.t0"
   ]
  },
  {
   "cell_type": "code",
   "execution_count": null,
   "metadata": {},
   "outputs": [],
   "source": [
    "jd0 = J2000 + et0"
   ]
  },
  {
   "cell_type": "code",
   "execution_count": null,
   "metadata": {},
   "outputs": [],
   "source": [
    "N = Int((size(ss16ast_eph_fwd.x)[2]-13)/6) ### <<<--- should use this with new version"
   ]
  },
  {
   "cell_type": "code",
   "execution_count": null,
   "metadata": {},
   "outputs": [],
   "source": [
    "ss16ast_eph_fwd.t0"
   ]
  },
  {
   "cell_type": "code",
   "execution_count": null,
   "metadata": {},
   "outputs": [],
   "source": [
    "findfirst(x->x>0.0, ss16ast_eph_fwd.t0 .+ ss16ast_eph_fwd.t)"
   ]
  },
  {
   "cell_type": "code",
   "execution_count": null,
   "metadata": {},
   "outputs": [],
   "source": [
    "length(ss16ast_eph_fwd.t)"
   ]
  },
  {
   "cell_type": "code",
   "execution_count": null,
   "metadata": {},
   "outputs": [],
   "source": [
    "size(ss16ast_eph_fwd.x)"
   ]
  },
  {
   "cell_type": "code",
   "execution_count": null,
   "metadata": {},
   "outputs": [],
   "source": [
    "length(ss16ast_eph_fwd.t[4642:end])"
   ]
  },
  {
   "cell_type": "code",
   "execution_count": null,
   "metadata": {},
   "outputs": [],
   "source": [
    "size(ss16ast_eph_fwd.x[4642:end,:])"
   ]
  },
  {
   "cell_type": "code",
   "execution_count": null,
   "metadata": {},
   "outputs": [],
   "source": [
    "#ss16ast_2000_t0 = ss16ast_eph_fwd.t0\n",
    "#ss16ast_2000_t = ss16ast_eph_fwd.t[4642:end]\n",
    "#ss16ast_2000_x = ss16ast_eph_fwd.x[4642:end,:]\n",
    "#ss16ast_2000 = TaylorInterpolant(ss16ast_2000_t0, ss16ast_2000_t, ss16ast_2000_x);\n",
    "#jldopen(\"sseph343ast016_p70y_et_2000_2069.jld\", \"w\") do file\n",
    "#    addrequire(file, TaylorSeries)\n",
    "#    addrequire(file, PlanetaryEphemeris)\n",
    "#    write(file, \"ss16ast_eph\", ss16ast_2000)\n",
    "#end"
   ]
  },
  {
   "cell_type": "markdown",
   "metadata": {},
   "source": [
    "## Alternatively, compute ephemeris here"
   ]
  },
  {
   "cell_type": "raw",
   "metadata": {},
   "source": [
    "#script parameters (TODO: use ArgParse.jl instead)\n",
    "maxsteps = 10000\n",
    "#const nyears = 5.0 #24.0\n",
    "jd0 = datetime2julian(DateTime(2000,1,1,12,0,0)) #starting time of integration\n",
    "#jd0 = datetime2julian(DateTime(1969,6,28,0,0,0)) #starting time of integration\n",
    "@show jd0, J2000, jd0-J2000\n",
    "dense = true #false\n",
    "# dynamics = NBP_pN_A_J23E_J23M_J2S!\n",
    "# dynamics = NBP_pN_A_J23E_J23M_J2S_threads!\n",
    "dynamics = DE430!\n",
    "@show dynamics\n",
    "nast = 0 #3 #16 # number of asteroid perturbers\n",
    "N = 11+nast # total number of bodies\n",
    "@show N\n",
    "quadmath = false #true # use quadruple precision\n",
    "\n",
    "# integration parameters\n",
    "order = 30 #25 #35 #40\n",
    "abstol = 1.0E-20 #1.0E-35\n",
    "\n",
    "parse_eqs = true\n",
    ";"
   ]
  },
  {
   "cell_type": "raw",
   "metadata": {},
   "source": [
    "et0 = (jd0-J2000)*daysec"
   ]
  },
  {
   "cell_type": "raw",
   "metadata": {},
   "source": [
    "#integrator warmup\n",
    "@time sol_warmup = PlanetaryEphemeris.propagate(1, jd0, 1.0, output=false, dense=dense, dynamics=dynamics, nast=nast, quadmath=quadmath, order=order, abstol=abstol, parse_eqs=parse_eqs)\n",
    "println(\"*** Finished warmup\")\n",
    "#282.030528 seconds (61.20 M allocations: 2.945 GiB, 0.95% gc time)"
   ]
  },
  {
   "cell_type": "raw",
   "metadata": {},
   "source": [
    "#integrator 3 steps\n",
    "sol_3steps = PlanetaryEphemeris.propagate(3, jd0, +1.0, output=false, dense=dense, dynamics=dynamics, nast=nast, quadmath=quadmath, order=order, abstol=abstol, parse_eqs=parse_eqs)\n",
    "println(\"*** Finished 3 steps\")"
   ]
  },
  {
   "cell_type": "raw",
   "metadata": {},
   "source": [
    "sol_3steps.sseph.x()"
   ]
  },
  {
   "cell_type": "raw",
   "metadata": {},
   "source": [
    "sol_3steps.sseph.t/daysec"
   ]
  },
  {
   "cell_type": "raw",
   "metadata": {},
   "source": []
  },
  {
   "cell_type": "raw",
   "metadata": {},
   "source": [
    "#@time sol_fwd = PlanetaryEphemeris.propagate(maxsteps, jd0, +6.0, output=false, dense=dense, dynamics=dynamics, nast=nast, quadmath=quadmath, order=order, abstol=abstol, parse_eqs=parse_eqs)\n",
    "@time sol_fwd = PlanetaryEphemeris.propagate(maxsteps, jd0, +31.0#=+25.0=#, output=false, dense=dense, dynamics=dynamics, nast=nast, quadmath=quadmath, order=order, abstol=abstol, parse_eqs=parse_eqs)\n",
    ";\n"
   ]
  },
  {
   "cell_type": "raw",
   "metadata": {},
   "source": [
    "ss16ast_eph_fwd = sol_fwd.sseph;"
   ]
  },
  {
   "cell_type": "raw",
   "metadata": {},
   "source": [
    "(sol_fwd.sseph.t[end] - sol_fwd.sseph.t[1])/daysec/yr"
   ]
  },
  {
   "cell_type": "markdown",
   "metadata": {},
   "source": [
    "## Process data"
   ]
  },
  {
   "cell_type": "code",
   "execution_count": null,
   "metadata": {},
   "outputs": [],
   "source": [
    "ss16ast_eph_fwd.t0, ss16ast_eph_fwd.t[end]/yr"
   ]
  },
  {
   "cell_type": "code",
   "execution_count": null,
   "metadata": {},
   "outputs": [],
   "source": [
    "ss16ast_eph_fwd.t[end]"
   ]
  },
  {
   "cell_type": "code",
   "execution_count": null,
   "metadata": {},
   "outputs": [],
   "source": [
    "tv_fwd = ss16ast_eph_fwd.t0 .+ ss16ast_eph_fwd.t;"
   ]
  },
  {
   "cell_type": "code",
   "execution_count": null,
   "metadata": {},
   "outputs": [],
   "source": [
    "ss16ast_eph_fwd(tv_fwd[1])[end], spkgeo(1000000001, tv_fwd[1]*daysec, \"J2000\", 1000000000)[1][1]"
   ]
  },
  {
   "cell_type": "code",
   "execution_count": null,
   "metadata": {},
   "outputs": [],
   "source": [
    "dttmtdb[50]"
   ]
  },
  {
   "cell_type": "code",
   "execution_count": null,
   "metadata": {},
   "outputs": [],
   "source": [
    "tv_fwd[1], tv_fwd[end]"
   ]
  },
  {
   "cell_type": "code",
   "execution_count": null,
   "metadata": {},
   "outputs": [],
   "source": [
    "julian2datetime(J2000 + tv_fwd[end])"
   ]
  },
  {
   "cell_type": "raw",
   "metadata": {},
   "source": [
    "function ss16ast_eph_bwd_fwd(et)\n",
    "    if et ≥ ss16ast_eph_bwd.t0 # 2.754864e8 \n",
    "        return ss16ast_eph_fwd(et)\n",
    "    else\n",
    "        return ss16ast_eph_bwd(et)\n",
    "    end\n",
    "end"
   ]
  },
  {
   "cell_type": "code",
   "execution_count": null,
   "metadata": {},
   "outputs": [],
   "source": [
    "function eph_xv_et(naifid::Int, et::Float64, observer_id::Int=10)\n",
    "    pv = spkgeo(naifid, et, \"J2000\", observer_id)[1]\n",
    "    pv /= au\n",
    "    pv[4:6] *= daysec\n",
    "    return pv\n",
    "end"
   ]
  },
  {
   "cell_type": "code",
   "execution_count": null,
   "metadata": {},
   "outputs": [],
   "source": [
    "#ephX = ss16ast_eph_bwd_fwd\n",
    "ephX = ss16ast_eph_fwd\n",
    ";"
   ]
  },
  {
   "cell_type": "code",
   "execution_count": null,
   "metadata": {},
   "outputs": [],
   "source": [
    "tvX = tv_fwd\n",
    "tvX_yrs = 2000 .+ tvX/yr; # years (CE) # years since initial time"
   ]
  },
  {
   "cell_type": "code",
   "execution_count": null,
   "metadata": {},
   "outputs": [],
   "source": [
    "yr0 = 2000 .+ day0/yr;"
   ]
  },
  {
   "cell_type": "code",
   "execution_count": null,
   "metadata": {},
   "outputs": [],
   "source": [
    "# distribution of time-steps\n",
    "d_tvX_days = diff(tvX[2:end-1])\n",
    "mean(d_tvX_days), std(d_tvX_days)"
   ]
  },
  {
   "cell_type": "code",
   "execution_count": null,
   "metadata": {},
   "outputs": [],
   "source": [
    "findmin(d_tvX_days[2:end-1])"
   ]
  },
  {
   "cell_type": "code",
   "execution_count": null,
   "metadata": {},
   "outputs": [],
   "source": [
    "findmax(d_tvX_days)"
   ]
  },
  {
   "cell_type": "code",
   "execution_count": null,
   "metadata": {},
   "outputs": [],
   "source": [
    "length(tv_fwd), length(tvX) # length(tv_bwd)"
   ]
  },
  {
   "cell_type": "code",
   "execution_count": null,
   "metadata": {},
   "outputs": [],
   "source": [
    "issorted(tvX), issorted(tvX_yrs)"
   ]
  },
  {
   "cell_type": "code",
   "execution_count": null,
   "metadata": {},
   "outputs": [],
   "source": [
    "dxsu = Array{Float64}(undef, length(tvX), 6)\n",
    "dxme = Array{Float64}(undef, length(tvX), 6)\n",
    "dxve = Array{Float64}(undef, length(tvX), 6)\n",
    "dxea = Array{Float64}(undef, length(tvX), 6)\n",
    "dxmo = Array{Float64}(undef, length(tvX), 6)\n",
    "dxemb = Array{Float64}(undef, length(tvX), 6)\n",
    "xmo_pleph = Array{Float64}(undef, length(tvX), 6)\n",
    "xea_pleph = Array{Float64}(undef, length(tvX), 6)\n",
    "xmo_de430 = Array{Float64}(undef, length(tvX), 6)\n",
    "xea_de430 = Array{Float64}(undef, length(tvX), 6)\n",
    "dxma = Array{Float64}(undef, length(tvX), 6)\n",
    "dxju = Array{Float64}(undef, length(tvX), 6)\n",
    "dxsa = Array{Float64}(undef, length(tvX), 6)\n",
    "dxne = Array{Float64}(undef, length(tvX), 6)\n",
    "dxce = Array{Float64}(undef, length(tvX), 6)\n",
    "dxpl = Array{Float64}(undef, length(tvX), 6)\n",
    "dxsy = Array{Float64}(undef, length(tvX), 6)\n",
    "\n",
    "xEMB_pleph = Array{Float64}(undef, length(tvX), 6)\n",
    "xME_pleph = Array{Float64}(undef, length(tvX), 6)\n",
    "xEMB_de430 = Array{Float64}(undef, length(tvX), 6)\n",
    "xME_de430 = Array{Float64}(undef, length(tvX), 6)\n",
    "\n",
    "ttmtdb_pleph = Array{Float64}(undef, length(tvX), 1)\n",
    "ttmtdb_de430 = Array{Float64}(undef, length(tvX), 1)\n",
    "dttmtdb = Array{Float64}(undef, length(tvX), 1)\n",
    "\n",
    "#eulang_pleph = Array{Float64}(undef, length(tvX), 3)\n",
    "#eulang_de430_arr = Array{Float64}(undef, length(tvX), 3)\n",
    "#deulang = Array{Float64}(undef, length(tvX), 3)\n",
    "\n",
    "for i in eachindex(tvX)\n",
    "    ssti = ephX(tvX[i])\n",
    "    \n",
    "    xvXS = ssti[nbodyind(N, 1)]\n",
    "    dxsu[i,:] = (eph_xv_et( 10, tvX[i]*daysec,0) .- xvXS)*(1e3au)\n",
    "    dxme[i,:] = (eph_xv_et(199, tvX[i]*daysec) .- (ssti[nbodyind(N, 2)]-xvXS))*(1e3au)\n",
    "    dxve[i,:] = (eph_xv_et(299, tvX[i]*daysec) .- (ssti[nbodyind(N, 3)]-xvXS))*(1e3au)\n",
    "    \n",
    "    # xEMB_pleph[i,:] = (ssti[nbodyind(N, ea)]-xvXS)*(1e3au)\n",
    "    # xME_pleph[i,:] = (ssti[nbodyind(N, mo)])*(1e3au)\n",
    "    # xEMB_de430[i,:] = eph_xv_et(3, tvX[i])*(1e3au)\n",
    "    # xME_de430[i,:] = eph_xv_et(301, tvX[i], 399)*(1e3au)\n",
    "    # xmo_pleph[i,:] = xEMB_pleph[i,:] .+ (μ[ea]*xME_pleph[i,:])/(μ[ea]+μ[mo])\n",
    "    # xea_pleph[i,:] = xEMB_pleph[i,:] .- (μ[mo]*xME_pleph[i,:])/(μ[ea]+μ[mo])\n",
    "    # xmo_de430[i,:] = xEMB_de430[i,:] .+ (μ[ea]*xME_de430[i,:])/(μ[ea]+μ[mo])\n",
    "    # xea_de430[i,:] = xEMB_de430[i,:] .- (μ[mo]*xME_de430[i,:])/(μ[ea]+μ[mo])\n",
    "    \n",
    "    xea_pleph[i,:] = (ssti[nbodyind(N,ea)]-xvXS)*(1e3au)\n",
    "    xmo_pleph[i,:] = (ssti[nbodyind(N,mo)]-xvXS)*(1e3au)\n",
    "    xea_de430[i,:] = eph_xv_et(399, tvX[i]*daysec)*(1e3au)\n",
    "    xmo_de430[i,:] = eph_xv_et(301, tvX[i]*daysec)*(1e3au)\n",
    "    xEMB_pleph[i,:] = ( (μ[mo].*xmo_pleph[i,:]) .+ (μ[ea].*xea_pleph[i,:]) )./(μ[ea]+μ[mo])\n",
    "    xME_pleph[i,:]  = xmo_pleph[i,:] .- xea_pleph[i,:] \n",
    "    xEMB_de430[i,:] = ( (μ[mo].*xmo_de430[i,:]) .+ (μ[ea].*xea_de430[i,:]) )./(μ[ea]+μ[mo])\n",
    "    xME_de430[i,:]  = xmo_de430[i,:] .- xea_de430[i,:]\n",
    "\n",
    "    ttmtdb_de430[i] = eph_xv_et(1000000001, tvX[i]*daysec,1000000000)[1]*au\n",
    "    ttmtdb_pleph[i] = ssti[end]\n",
    "    # @show tvX[i], ttmtdb_de430[i], ttmtdb_pleph[i], ttmtdb_de430[i]-ttmtdb_pleph[i]\n",
    "    \n",
    "    dxea[i,:] = xea_de430[i,:] .- xea_pleph[i,:]\n",
    "    dxmo[i,:] = xmo_de430[i,:] .- xmo_pleph[i,:]\n",
    "    dxemb[i,:] = xEMB_de430[i,:] .- xEMB_pleph[i,:]\n",
    "\n",
    "    dxma[i,:] = (eph_xv_et(      4, tvX[i]*daysec) .- (ssti[nbodyind(N, 6)]-xvXS))*(1e3au)\n",
    "    dxju[i,:] = (eph_xv_et(      5, tvX[i]*daysec) .- (ssti[nbodyind(N, 7)]-xvXS))*(1e3au)\n",
    "    dxsa[i,:] = (eph_xv_et(      6, tvX[i]*daysec) .- (ssti[nbodyind(N, 8)]-xvXS))*(1e3au)\n",
    "    dxne[i,:] = (eph_xv_et(      8, tvX[i]*daysec) .- (ssti[nbodyind(N,10)]-xvXS))*(1e3au)\n",
    "    dxpl[i,:] = (eph_xv_et(      9, tvX[i]*daysec) .- (ssti[nbodyind(N,11)]-xvXS))*(1e3au)\n",
    "    dttmtdb[i] = ttmtdb_de430[i] - ttmtdb_pleph[i]\n",
    "    #dxce[i,:] = (eph_xv_et(2000001, tvX[i]*daysec) .- (ssti[nbodyind(N,12)]-xvXS))*(1e3au)\n",
    "    #dxsy[i,:] = (eph_xv_et(2000087, tvX[i]*daysec) .- (ssti[nbodyind(N,N)]-xvXS))*(1e3au)\n",
    "    \n",
    "    #eulang_pleph[i,:] = ssti[6N+1:6N+3]\n",
    "    #eulang_de430_arr[i,:] = eulang_de430(tvX[i])\n",
    "    #deulang[i,:] = eulang_de430_arr[i,:] .- eulang_pleph[i,:]\n",
    "end"
   ]
  },
  {
   "cell_type": "code",
   "execution_count": null,
   "metadata": {},
   "outputs": [],
   "source": [
    "# p100y (J2000), 0 ast\n",
    "ind_ = lastindex(tvX);\n",
    "1e3dxme[ind_,:]"
   ]
  },
  {
   "cell_type": "code",
   "execution_count": null,
   "metadata": {},
   "outputs": [],
   "source": []
  },
  {
   "cell_type": "code",
   "execution_count": null,
   "metadata": {},
   "outputs": [],
   "source": [
    "xlabel_str = \"Year\";"
   ]
  },
  {
   "cell_type": "code",
   "execution_count": null,
   "metadata": {},
   "outputs": [],
   "source": [
    "@time using Plots"
   ]
  },
  {
   "cell_type": "code",
   "execution_count": null,
   "metadata": {},
   "outputs": [],
   "source": [
    "gr()"
   ]
  },
  {
   "cell_type": "code",
   "execution_count": null,
   "metadata": {},
   "outputs": [],
   "source": [
    "###Plots warmup\n",
    "@time plot(rand(5), rand(5));"
   ]
  },
  {
   "cell_type": "code",
   "execution_count": null,
   "metadata": {},
   "outputs": [],
   "source": []
  },
  {
   "cell_type": "code",
   "execution_count": null,
   "metadata": {},
   "outputs": [],
   "source": [
    "plot( tvX_yrs, ttmtdb_de430, label=\"DE430\")\n",
    "plot!( tvX_yrs, ttmtdb_pleph, label=\"PE\")\n",
    "title!(\"TT-TDB: DE430 and PlEph.jl\")\n",
    "xlabel!(xlabel_str)\n",
    "ylabel!(\"(TT-TDB) [seconds]\")"
   ]
  },
  {
   "cell_type": "code",
   "execution_count": null,
   "metadata": {},
   "outputs": [],
   "source": [
    "plot( tvX_yrs, ttmtdb_de430-ttmtdb_pleph, leg=false)\n",
    "title!(\"Δ(TT-TDB)=(TT-TDB)(DE430) - (TT-TDB)(PE)\")\n",
    "#xlims!(2000,2001)\n",
    "xlabel!(xlabel_str)\n",
    "ylabel!(\"[seconds]\")"
   ]
  },
  {
   "cell_type": "code",
   "execution_count": null,
   "metadata": {},
   "outputs": [],
   "source": [
    "plot( tvX_yrs, 1e3dxsu[:,1], label=\"x\")\n",
    "plot!(tvX_yrs, 1e3dxsu[:,2], label=\"y\")\n",
    "plot!(tvX_yrs, 1e3dxsu[:,3], label=\"z\")\n",
    "title!(\"Sun barycentric position: DE430 - PlEph.jl (Float64)\")\n",
    "xlabel!(xlabel_str)\n",
    "ylabel!(\"Delta (x,y,z) [mm]\")"
   ]
  },
  {
   "cell_type": "code",
   "execution_count": null,
   "metadata": {},
   "outputs": [],
   "source": [
    "plot( tvX_yrs, dxme[:,1], label=\"x\")\n",
    "plot!(tvX_yrs, dxme[:,2], label=\"y\")\n",
    "plot!(tvX_yrs, dxme[:,3], label=\"z\")\n",
    "title!(\"Mercury heliocentric position: DE430 - PlEph.jl (Float64)\")\n",
    "xlabel!(xlabel_str)\n",
    "ylabel!(\"Delta (x,y,z) [m]\")\n",
    "#yticks!(-0.04:0.02:0.04)"
   ]
  },
  {
   "cell_type": "code",
   "execution_count": null,
   "metadata": {},
   "outputs": [],
   "source": [
    "plot( tvX_yrs, dxve[:,1], label=\"x\")\n",
    "plot!(tvX_yrs, dxve[:,2], label=\"y\")\n",
    "plot!(tvX_yrs, dxve[:,3], label=\"z\")\n",
    "title!(\"Venus heliocentric position: DE430 - PlEph.jl (Float64)\")\n",
    "xlabel!(xlabel_str)\n",
    "ylabel!(\"Delta (x,y,z) [m]\")"
   ]
  },
  {
   "cell_type": "code",
   "execution_count": null,
   "metadata": {},
   "outputs": [],
   "source": [
    "plot( tvX_yrs, dxemb[:,1], label=\"x\")\n",
    "plot!(tvX_yrs, dxemb[:,2], label=\"y\")\n",
    "plot!(tvX_yrs, dxemb[:,3], label=\"z\")\n",
    "title!(\"EMB heliocentric position: DE430 - PlEph.jl (Float64)\")\n",
    "xlabel!(xlabel_str)\n",
    "ylabel!(\"Delta (x,y,z) [m]\")\n",
    "#savefig(\"emb_xyz.png\")"
   ]
  },
  {
   "cell_type": "code",
   "execution_count": null,
   "metadata": {},
   "outputs": [],
   "source": [
    "plot( tvX_yrs, dxea[:,1], label=\"x\")\n",
    "plot!(tvX_yrs, dxea[:,2], label=\"y\")\n",
    "plot!(tvX_yrs, dxea[:,3], label=\"z\")\n",
    "title!(\"Earth heliocentric position: DE430 - PlEph.jl (Float64)\")\n",
    "xlabel!(xlabel_str)\n",
    "ylabel!(\"Delta (x,y,z) [m]\")"
   ]
  },
  {
   "cell_type": "code",
   "execution_count": null,
   "metadata": {},
   "outputs": [],
   "source": [
    "plot( tvX_yrs, dxmo[:,1], label=\"x\", leg=:bottomleft)\n",
    "plot!(tvX_yrs, dxmo[:,2], label=\"y\")\n",
    "plot!(tvX_yrs, dxmo[:,3], label=\"z\")\n",
    "title!(\"Moon heliocentric position: DE430 - PlEph.jl (Float64)\")\n",
    "xlabel!(xlabel_str)\n",
    "ylabel!(\"Delta (x,y,z) [m]\")\n",
    "#yticks!(-7.5:2.5:7.5)\n",
    "#savefig(\"moon_xyz.png\")"
   ]
  },
  {
   "cell_type": "code",
   "execution_count": null,
   "metadata": {},
   "outputs": [],
   "source": [
    "plot( tvX_yrs, xME_de430[:,1]-xME_pleph[:,1], label=\"x\", leg=:bottomleft)\n",
    "plot!(tvX_yrs, xME_de430[:,2]-xME_pleph[:,2], label=\"y\")\n",
    "plot!(tvX_yrs, xME_de430[:,3]-xME_pleph[:,3], label=\"z\")\n",
    "title!(\"Moon geocentric position: DE430 - PlEph.jl (Float64)\")\n",
    "xlabel!(xlabel_str)\n",
    "ylabel!(\"Diff. in Moon geocentric position [m]\")\n",
    "ylabel!(\"Delta (x,y,z) [m]\")\n",
    "#xlims!(2000, 2006)\n",
    "#ylims!(-10,10)\n",
    "#savefig(\"moon_geocentric_xyz.png\")\n"
   ]
  },
  {
   "cell_type": "code",
   "execution_count": null,
   "metadata": {},
   "outputs": [],
   "source": [
    "dxem_pleph = (xmo_pleph .- xea_pleph)/(1e3au)\n",
    "dxem_de430 = (xmo_de430 .- xea_de430)/(1e3au)\n",
    "# a_M: Moon semimajor axis\n",
    "a_M_pleph = semimajoraxis.(dxem_pleph[:,1], dxem_pleph[:,2], dxem_pleph[:,3], dxem_pleph[:,4], dxem_pleph[:,5], dxem_pleph[:,6], μ[ea], μ[mo])\n",
    "a_M_de430 = semimajoraxis.(dxem_de430[:,1], dxem_de430[:,2], dxem_de430[:,3], dxem_de430[:,4], dxem_de430[:,5], dxem_de430[:,6], μ[ea], μ[mo]);\n",
    "#diff_a_M = (1e3au)*(a_M_pleph.-a_M_de430);\n",
    "diff_a_M = (1e3au)*(a_M_de430.-a_M_pleph);"
   ]
  },
  {
   "cell_type": "code",
   "execution_count": null,
   "metadata": {},
   "outputs": [],
   "source": [
    "drem_pleph = (1e3au)*sqrt.(dxem_pleph[:,1].^2  + dxem_pleph[:,2].^2  + dxem_pleph[:,3].^2)\n",
    "drem_de430 = (1e3au)*sqrt.(dxem_de430[:,1].^2  + dxem_de430[:,2].^2  + dxem_de430[:,3].^2);"
   ]
  },
  {
   "cell_type": "code",
   "execution_count": null,
   "metadata": {},
   "outputs": [],
   "source": [
    "plot(tvX_yrs, 1e2(drem_de430-drem_pleph))\n",
    "title!(\"Moon geocentric range: DE430 - PlEph.jl (Float64)\")\n",
    "ylabel!(\"d(E,M) [centimeters]\")\n",
    "xlabel!(xlabel_str)\n",
    "#xlims!(-5,6)\n",
    "#xticks!(-2000:1:2021)\n",
    "#savefig(\"earth_moon_distance.png\")"
   ]
  },
  {
   "cell_type": "code",
   "execution_count": null,
   "metadata": {},
   "outputs": [],
   "source": [
    "plot(tvX_yrs, (1e3au)*a_M_pleph)\n",
    "plot!(tvX_yrs, 1e3PlanetaryEphemeris.ld .+ 38.08e-3*tvX_yrs, label=\"LD + mean( aM_tidal_JPL(t) )\")\n",
    "title!(\"Moon semimajor axis: PlEph.jl (Float64)\")\n",
    "ylabel!(\"d(E,M) [centimeters]\")\n",
    "xlabel!(xlabel_str)"
   ]
  },
  {
   "cell_type": "code",
   "execution_count": null,
   "metadata": {},
   "outputs": [],
   "source": [
    "plot( tvX_yrs, 1e3diff_a_M, label=\"aM(DE430)-aM(PlEph.jl)\", leg=:topleft)\n",
    "plot!(tvX_yrs, 38.08*(tvX_yrs.-yr0), label=\"mean( aM_tidal_JPL(t) )\")\n",
    "title!(\"Moon semimajor axis: DE430 - PlEph.jl (Float64)\")\n",
    "ylabel!(\"semimajor axis, a [millimeters]\")\n",
    "xlabel!(xlabel_str)\n",
    "#xlims!(0,5.25)"
   ]
  },
  {
   "cell_type": "code",
   "execution_count": null,
   "metadata": {},
   "outputs": [],
   "source": [
    "plot( tvX_yrs, 1e3diff_a_M, label=\"aM(DE430)-aM(PlEph.jl)\", leg=:topleft)\n",
    "#plot!(tvX_yrs, 38.08*(tvX_yrs.-yr0), label=\"mean( aM_tidal_JPL(t) )\")\n",
    "title!(\"Moon semimajor axis: DE430 - PlEph.jl (Float64)\")\n",
    "ylabel!(\"semimajor axis, a [millimeters]\")\n",
    "xlabel!(xlabel_str)\n",
    "#xlims!(0,5.25)"
   ]
  },
  {
   "cell_type": "code",
   "execution_count": null,
   "metadata": {},
   "outputs": [],
   "source": [
    "plot( tvX_yrs, (1e3au)*a_M_pleph, label=\"aM(PlEph.jl)\", leg=:bottomleft)\n",
    "plot!( tvX_yrs, (1e3au)*a_M_de430, label=\"aM(DE430)\", leg=:bottomleft)\n",
    "plot!(tvX_yrs, 1e3PlanetaryEphemeris.ld .+ 38.08e-3*tvX_yrs, label=\"ld + mean( aM_tidal(t) )\")\n",
    "title!(\"Moon semimajor axis (Float64)\")\n",
    "ylabel!(\"semimajor axis, a [m]\")\n",
    "xlabel!(xlabel_str)"
   ]
  },
  {
   "cell_type": "code",
   "execution_count": null,
   "metadata": {},
   "outputs": [],
   "source": [
    "lma = 2000 #2500\n",
    "#lma = 10000 \n",
    "diff_a_M_ma = map(x->mean(diff_a_M[x:x+lma]), 1:(length(diff_a_M)-lma)); # diff a moving average\n",
    "a_M_pleph_ma = map(x->mean(a_M_pleph[x:x+lma]), 1:(length(diff_a_M)-lma)); # a(PE) moving average\n",
    "a_M_pleph_mean = mean(a_M_pleph)"
   ]
  },
  {
   "cell_type": "code",
   "execution_count": null,
   "metadata": {},
   "outputs": [],
   "source": [
    "plot( tvX_yrs[1:length(a_M_pleph_ma)], (1e3au)*(a_M_pleph_ma.-a_M_pleph_mean), label=\"aM(PlEph.jl)\", leg=:bottomleft)\n",
    "#plot!(tvX_yrs, 1e3PlanetaryEphemeris.ld .+ 38.08e-3*tvX_yrs, label=\"mean( aM_tidal(t) )\")\n",
    "title!(\"Moon semimajor axis, moving average: PlEph.jl (Float64)\")\n",
    "ylabel!(\"semimajor axis, a [m]\")\n",
    "xlabel!(xlabel_str)"
   ]
  },
  {
   "cell_type": "code",
   "execution_count": null,
   "metadata": {},
   "outputs": [],
   "source": [
    "plot( tvX_yrs[1:length(diff_a_M_ma)], 1e3(diff_a_M_ma.-diff_a_M_ma[1]), label=\"a_M\", leg=:topleft)\n",
    "ylabel!(\"semimajor axis, a [mm]\")\n",
    "xlabel!(xlabel_str)\n",
    "xlims!(minmax(tvX_yrs[1], tvX_yrs[end])...)\n",
    "title!(\"a_M(DE430)-a_M(PlEph.jl), moving average (Float64)\")\n",
    "plot!(tvX_yrs, 38.08(tvX_yrs.-yr0), label=\"mean( aM_tidal_JPL(t) )\", leg=:topleft)\n",
    "#ylims!(-5,35)"
   ]
  },
  {
   "cell_type": "code",
   "execution_count": null,
   "metadata": {},
   "outputs": [],
   "source": [
    "plot( tvX_yrs[1:length(diff_a_M_ma)], 1e3(diff_a_M_ma.-diff_a_M_ma[1]), label=\"a_M\")\n",
    "ylabel!(\"semimajor axis, a [mm]\")\n",
    "xlabel!(xlabel_str)\n",
    "xlims!(minmax(tvX_yrs[1], tvX_yrs[end])...)\n",
    "title!(\"a_M(DE430)-a_M(PlEph.jl), moving average (Float64)\")\n",
    "#plot!(tvX_yrs, 38.08(tvX_yrs.-yr0), label=\"mean( aM_tidal_JPL(t) )\")\n",
    "#ylims!(-45,2)\n",
    "#ylims!(-60,2)"
   ]
  },
  {
   "cell_type": "code",
   "execution_count": null,
   "metadata": {},
   "outputs": [],
   "source": [
    "#plot(tvX_yrs, 3600*(180/pi)*(deulang[:,1]), label=\"Δϕ\")\n",
    "#plot!(tvX_yrs, 3600*(180/pi)*(deulang[:,2]), label=\"Δθ\")\n",
    "#plot!(tvX_yrs, 3600*(180/pi)*(deulang[:,3]), label=\"Δψ\")\n",
    "#xlabel!(\"Year\")\n",
    "#ylabel!(\"Δϕ, Δθ, Δψ [arcsec]\")\n",
    "#title!(\"Lunar physical libration Euler angles: DE430 - PlEph.jl (Float64)\")"
   ]
  },
  {
   "cell_type": "code",
   "execution_count": null,
   "metadata": {},
   "outputs": [],
   "source": [
    "((343+11)*6+6+6)"
   ]
  },
  {
   "cell_type": "code",
   "execution_count": null,
   "metadata": {},
   "outputs": [],
   "source": [
    "1738e3*(0.3/3600)*(pi/180)"
   ]
  },
  {
   "cell_type": "code",
   "execution_count": null,
   "metadata": {},
   "outputs": [],
   "source": [
    "plot( tvX_yrs, dxma[:,1], label=\"x\")\n",
    "plot!(tvX_yrs, dxma[:,2], label=\"y\")\n",
    "plot!(tvX_yrs, dxma[:,3], label=\"z\")\n",
    "title!(\"Mars heliocentric position: DE430 - PlEph.jl (Float64)\")\n",
    "xlabel!(xlabel_str)\n",
    "ylabel!(\"Delta (x,y,z) [m]\")\n",
    "#savefig(\"mars_xyz.png\")"
   ]
  },
  {
   "cell_type": "code",
   "execution_count": null,
   "metadata": {},
   "outputs": [],
   "source": [
    "plot( tvX_yrs, dxce[:,1], label=\"x\")\n",
    "plot!(tvX_yrs, dxce[:,2], label=\"y\")\n",
    "plot!(tvX_yrs, dxce[:,3], label=\"z\")\n",
    "title!(\"Ceres heliocentric position: DE430 - PlEph.jl (Float64)\")\n",
    "xlabel!(xlabel_str)\n",
    "ylabel!(\"Delta (x,y,z) [m]\")\n",
    "#savefig(\"ceres_xyz.png\")"
   ]
  },
  {
   "cell_type": "code",
   "execution_count": null,
   "metadata": {},
   "outputs": [],
   "source": [
    "plot( tvX_yrs, dxsy[:,1], label=\"x\")\n",
    "plot!(tvX_yrs, dxsy[:,2], label=\"y\")\n",
    "plot!(tvX_yrs, dxsy[:,3], label=\"z\")\n",
    "title!(\"Sylvia heliocentric position: DE430 - PlEph.jl (Float64)\")\n",
    "xlabel!(xlabel_str)\n",
    "ylabel!(\"Delta (x,y,z) [m]\")\n",
    "#savefig(\"ceres_xyz.png\")"
   ]
  },
  {
   "cell_type": "code",
   "execution_count": null,
   "metadata": {},
   "outputs": [],
   "source": [
    "plot( tvX_yrs, dxju[:,1], label=\"x\")\n",
    "plot!(tvX_yrs, dxju[:,2], label=\"y\")\n",
    "plot!(tvX_yrs, dxju[:,3], label=\"z\")\n",
    "title!(\"Jupiter heliocentric position: DE430 - PlEph.jl (Float64)\")\n",
    "xlabel!(xlabel_str)\n",
    "ylabel!(\"Delta (x,y,z) [m]\")\n",
    "#savefig(\"jupiter_xyz.png\")"
   ]
  },
  {
   "cell_type": "code",
   "execution_count": null,
   "metadata": {},
   "outputs": [],
   "source": [
    "plot( tvX_yrs, dxsa[:,1], label=\"x\")\n",
    "plot!(tvX_yrs, dxsa[:,2], label=\"y\")\n",
    "plot!(tvX_yrs, dxsa[:,3], label=\"z\")\n",
    "title!(\"Saturn heliocentric position: DE430 - PlEph.jl (Float64)\")\n",
    "xlabel!(xlabel_str)\n",
    "ylabel!(\"Delta (x,y,z) [m]\")"
   ]
  },
  {
   "cell_type": "code",
   "execution_count": null,
   "metadata": {},
   "outputs": [],
   "source": [
    "plot( tvX_yrs, dxne[:,1], label=\"x\")\n",
    "plot!(tvX_yrs, dxne[:,2], label=\"y\")\n",
    "plot!(tvX_yrs, dxne[:,3], label=\"z\")\n",
    "title!(\"Neptune heliocentric position: DE430 - PlEph.jl (Float64)\")\n",
    "xlabel!(xlabel_str)\n",
    "ylabel!(\"Delta (x,y,z) [m]\")"
   ]
  },
  {
   "cell_type": "code",
   "execution_count": null,
   "metadata": {},
   "outputs": [],
   "source": [
    "plot( tvX_yrs, dxpl[:,1], label=\"x\")\n",
    "plot!(tvX_yrs, dxpl[:,2], label=\"y\")\n",
    "plot!(tvX_yrs, dxpl[:,3], label=\"z\")\n",
    "title!(\"Pluto heliocentric position: DE430 - PlEph.jl (Float64)\")\n",
    "xlabel!(xlabel_str)\n",
    "ylabel!(\"Delta (x,y,z) [m]\")"
   ]
  },
  {
   "cell_type": "markdown",
   "metadata": {},
   "source": [
    "# Position of the center of mass/energy ($N$-body metric)"
   ]
  },
  {
   "cell_type": "code",
   "execution_count": null,
   "metadata": {},
   "outputs": [],
   "source": [
    "#using JLD"
   ]
  },
  {
   "cell_type": "code",
   "execution_count": null,
   "metadata": {},
   "outputs": [],
   "source": [
    "sseph_ssb = \"sseph_p31y_1969Jun28.jld\"\n",
    "#sseph_ssb = \"sseph_p30y_J2000.jld\"\n",
    "\n",
    "@time t_sseph = load(sseph_ssb, \"t\");\n",
    "@time x_sseph = load(sseph_ssb, \"x\");"
   ]
  },
  {
   "cell_type": "raw",
   "metadata": {},
   "source": [
    "x_E = x_sseph_[:,nbodyind(354,ea)] .- (μ[mo]*x_sseph_[:,nbodyind(354,mo)]/PlanetaryEphemeris.GMB)\n",
    "x_M = x_sseph_[:,nbodyind(354,ea)] .+ (μ[ea]*x_sseph_[:,nbodyind(354,mo)]/PlanetaryEphemeris.GMB)\n",
    "\n",
    "x_sseph = copy(x_sseph_)\n",
    "\n",
    "x_sseph[:,nbodyind(354,ea)] .= x_E\n",
    "x_sseph[:,nbodyind(354,mo)] .= x_M\n",
    ";"
   ]
  },
  {
   "cell_type": "code",
   "execution_count": null,
   "metadata": {},
   "outputs": [],
   "source": [
    "t_sseph_sub = t_sseph[1:20:end]\n",
    "ind_t_sseph_sub = findall(x->x ∈ t_sseph_sub, t_sseph)\n",
    "\n",
    "x_ssb = Array{Float64}(undef, length(ind_t_sseph_sub), 3);\n",
    "for i in eachindex(ind_t_sseph_sub)\n",
    "    ssb_i = ssb_posvel_pN(μ, x_sseph[ind_t_sseph_sub[i],:])\n",
    "    x_ssb[i,:] = ssb_i[1]/ssb_i[3]\n",
    "end"
   ]
  },
  {
   "cell_type": "code",
   "execution_count": null,
   "metadata": {},
   "outputs": [],
   "source": [
    "t_sseph_yrs_sub = yr0 .+ (t_sseph_sub/yr)\n",
    "\n",
    "plot(t_sseph_yrs_sub, 1e6au*x_ssb[:,1], label=\"x\")\n",
    "plot!(t_sseph_yrs_sub, 1e6au*x_ssb[:,2], label=\"y\")\n",
    "plot!(t_sseph_yrs_sub, 1e6au*x_ssb[:,3], label=\"z\")\n",
    "xlabel!(\"Year\")\n",
    "ylabel!(\"Position [mm]\")\n",
    "title!(\"Center of mass/energy (n-body metric)\")"
   ]
  },
  {
   "cell_type": "code",
   "execution_count": null,
   "metadata": {},
   "outputs": [],
   "source": [
    "t_sseph_yrs_sub = yr0 .+ (t_sseph_sub/yr)\n",
    "\n",
    "plot(t_sseph_yrs_sub, 1e6au*x_ssb[:,1], label=\"x\")\n",
    "plot!(t_sseph_yrs_sub, 1e6au*x_ssb[:,2], label=\"y\")\n",
    "plot!(t_sseph_yrs_sub, 1e6au*x_ssb[:,3], label=\"z\")\n",
    "xlabel!(\"Year\")\n",
    "ylabel!(\"Position [mm]\")\n",
    "title!(\"Center of mass/energy (n-body metric)\")"
   ]
  },
  {
   "cell_type": "code",
   "execution_count": null,
   "metadata": {},
   "outputs": [],
   "source": [
    "t_sseph_yrs_sub = yr0 .+ (t_sseph_sub/yr)\n",
    "\n",
    "plot(t_sseph_yrs_sub, 1e6au*x_ssb[:,1], label=\"x\")\n",
    "plot!(t_sseph_yrs_sub, 1e6au*x_ssb[:,2], label=\"y\")\n",
    "plot!(t_sseph_yrs_sub, 1e6au*x_ssb[:,3], label=\"z\")\n",
    "xlabel!(\"Year\")\n",
    "ylabel!(\"Position [mm]\")\n",
    "title!(\"Center of mass/energy (n-body metric)\")"
   ]
  },
  {
   "cell_type": "code",
   "execution_count": null,
   "metadata": {},
   "outputs": [],
   "source": [
    "t_sseph_yrs_sub = yr0 .+ (t_sseph_sub/yr)\n",
    "\n",
    "plot(t_sseph_yrs_sub, 1e6au*x_ssb[:,1], label=\"x\")\n",
    "plot!(t_sseph_yrs_sub, 1e6au*x_ssb[:,2], label=\"y\")\n",
    "plot!(t_sseph_yrs_sub, 1e6au*x_ssb[:,3], label=\"z\")\n",
    "xlabel!(\"Year\")\n",
    "ylabel!(\"Position [mm]\")\n",
    "title!(\"Center of mass/energy (n-body metric)\")"
   ]
  },
  {
   "cell_type": "code",
   "execution_count": null,
   "metadata": {},
   "outputs": [],
   "source": []
  },
  {
   "cell_type": "markdown",
   "metadata": {},
   "source": [
    "# Paper plots"
   ]
  },
  {
   "cell_type": "code",
   "execution_count": null,
   "metadata": {},
   "outputs": [],
   "source": [
    "@time using Gaston"
   ]
  },
  {
   "cell_type": "code",
   "execution_count": null,
   "metadata": {
    "scrolled": true,
    "tags": []
   },
   "outputs": [],
   "source": [
    "p_ce = plot( tvX_yrs, dxce[:,1],\n",
    "    Axes(\n",
    "        linetype = :tab10,\n",
    "        grid=true,\n",
    "        title=\"'Ceres heliocentric position'\",\n",
    "        xlabel=\"'Year'\",\n",
    "        ylabel=\"'\\$\\\\Delta x, \\\\Delta y, \\\\Delta z\\$ [m]'\",\n",
    "        ytics  = \"('\\$-2\\\\cdot 10^{5}\\$' -2e5, '\\$- 10^{5}\\$' -1e5, '0' 0, '\\$10^{5}\\$' 1e5, '\\$2\\\\cdot 10^{5}\\$' 2e5)\"\n",
    "    ),\n",
    "    handle = 1\n",
    ")\n",
    "plot!( tvX_yrs, dxce[:,2])\n",
    "plot!( tvX_yrs, dxce[:,3])\n",
    "\n",
    "p_ea = plot( tvX_yrs, dxea[:,1],\n",
    "    Axes(\n",
    "        linetype = :tab10,\n",
    "        grid=true,\n",
    "        title=\"'Earth heliocentric position'\",\n",
    "        xlabel=\"'Year'\",\n",
    "        ylabel=\"'\\$\\\\Delta x, \\\\Delta y, \\\\Delta z\\$ [m]'\"\n",
    "    ),\n",
    "    handle = 2\n",
    ")\n",
    "plot!( tvX_yrs, dxea[:,2])\n",
    "plot!( tvX_yrs, dxea[:,3])\n",
    "\n",
    "p_mo = plot( tvX_yrs, (drem_de430-drem_pleph),\n",
    "    Axes(\n",
    "        linetype = :tab10,\n",
    "        grid=true,\n",
    "        title=\"'Moon geocentric range'\",\n",
    "        xlabel=\"'Year'\",\n",
    "        ylabel=\"'\\$\\\\Delta r\\$ [m]'\"\n",
    "    ),\n",
    "    handle = 3\n",
    ")\n",
    "\n",
    "p_ju = plot( tvX_yrs, dxju[:,1],\n",
    "    Axes(\n",
    "        linetype = :tab10,\n",
    "        grid=true,\n",
    "        title=\"'Jupiter heliocentric position'\",\n",
    "        xlabel=\"'Year'\",\n",
    "        ylabel=\"'\\$\\\\Delta x, \\\\Delta y, \\\\Delta z\\$ [m]'\"\n",
    "    ),\n",
    "    handle = 4\n",
    ")\n",
    "plot!( tvX_yrs, dxju[:,2])\n",
    "plot!( tvX_yrs, dxju[:,3])\n",
    "\n",
    "\n",
    "plot([\n",
    "    p_ea p_mo;\n",
    "    p_ju p_ce\n",
    "])\n",
    "\n",
    "Gaston.save(term = \"cairolatex\", output = \"pleph_gaston.tex\", saveopts = \"pdf standalone color dashed transparent size 8in,6in font ',12'\")\n",
    "run(`pdflatex pleph_gaston.tex`)"
   ]
  },
  {
   "cell_type": "markdown",
   "metadata": {},
   "source": [
    "# DDA plots"
   ]
  },
  {
   "cell_type": "code",
   "execution_count": null,
   "metadata": {},
   "outputs": [],
   "source": [
    "p_me = plot( tvX_yrs, dxme[:,1], label=\"x\")\n",
    "plot!(tvX_yrs, dxme[:,2], label=\"y\")\n",
    "plot!(tvX_yrs, dxme[:,3], label=\"z\", leg=false)\n",
    "title!(\"Mercury heliocentric position\", titlefont = 12, guidefont=10) #: DE430 - TaylorIntegration.jl\")\n",
    "xlabel!(xlabel_str)\n",
    "ylabel!(\"Δx, Δy, Δz [m]\")\n",
    "#yticks!(-0.04:0.02:0.04)"
   ]
  },
  {
   "cell_type": "code",
   "execution_count": null,
   "metadata": {},
   "outputs": [],
   "source": [
    "p_ea = plot( tvX_yrs, dxea[:,1], label=\"x\")\n",
    "plot!(tvX_yrs, dxea[:,2], label=\"y\")\n",
    "plot!(tvX_yrs, dxea[:,3], label=\"z\", leg=false)\n",
    "title!(\"Earth heliocentric position\", titlefont = 12, guidefont=10) #: DE430 - TaylorIntegration.jl\")\n",
    "xlabel!(xlabel_str)\n",
    "ylabel!(\"Δx, Δy, Δz [m]\")"
   ]
  },
  {
   "cell_type": "code",
   "execution_count": null,
   "metadata": {},
   "outputs": [],
   "source": [
    "p_mo = plot(tvX_yrs, (drem_de430-drem_pleph), leg=false)\n",
    "title!(\"Moon geocentric range\", titlefont = 12, guidefont=10) #: DE430 - TaylorIntegration.jl\")\n",
    "ylabel!(\"Δr [m]\")\n",
    "xlabel!(xlabel_str)"
   ]
  },
  {
   "cell_type": "code",
   "execution_count": null,
   "metadata": {},
   "outputs": [],
   "source": [
    "p_ju = plot( tvX_yrs, dxju[:,1], label=\"x\")\n",
    "plot!(tvX_yrs, dxju[:,2], label=\"y\")\n",
    "plot!(tvX_yrs, dxju[:,3], label=\"z\", leg=false)\n",
    "title!(\"Jupiter heliocentric position\", titlefont = 12, guidefont=10) #: DE430 - TaylorIntegration.jl\")\n",
    "xlabel!(xlabel_str)\n",
    "ylabel!(\"Δx, Δy, Δz [m]\")"
   ]
  },
  {
   "cell_type": "code",
   "execution_count": null,
   "metadata": {},
   "outputs": [],
   "source": [
    "plot(p_me, p_ea, p_mo, p_ju, layout=4)\n",
    "#savefig(\"/Users/Jorge/Downloads/pleph.pdf\")"
   ]
  },
  {
   "cell_type": "code",
   "execution_count": null,
   "metadata": {},
   "outputs": [],
   "source": [
    "plot(p_me, p_ea, p_mo, p_ju, layout=4)\n",
    "#savefig(\"/Users/Jorge/Downloads/pleph.pdf\")"
   ]
  },
  {
   "cell_type": "code",
   "execution_count": null,
   "metadata": {},
   "outputs": [],
   "source": [
    "plot(p_me, p_ea, p_mo, p_ju, layout=4)\n",
    "#savefig(\"/Users/Jorge/Downloads/pleph.pdf\")"
   ]
  },
  {
   "cell_type": "code",
   "execution_count": null,
   "metadata": {},
   "outputs": [],
   "source": [
    "plot(p_me, p_ea, p_mo, p_ju, layout=4)\n",
    "#savefig(\"/Users/Jorge/Downloads/pleph.pdf\")"
   ]
  },
  {
   "cell_type": "code",
   "execution_count": null,
   "metadata": {},
   "outputs": [],
   "source": [
    "plot(p_me, p_ea, p_mo, p_ju, layout=4)\n",
    "#savefig(\"/Users/Jorge/Downloads/pleph.pdf\")"
   ]
  },
  {
   "cell_type": "code",
   "execution_count": null,
   "metadata": {},
   "outputs": [],
   "source": []
  },
  {
   "cell_type": "markdown",
   "metadata": {},
   "source": [
    "# Earth-Moon barycenter and relative coordinates"
   ]
  },
  {
   "cell_type": "code",
   "execution_count": null,
   "metadata": {},
   "outputs": [],
   "source": [
    "_pv = spkgeo(399, et0, \"J2000\", 0)[1]; pvE = _pv/au; pvE[4:6]=pvE[4:6]*daysec; pvE\n",
    "_pv = spkgeo(301, et0, \"J2000\", 0)[1]; pvM = _pv/au; pvM[4:6]=pvM[4:6]*daysec; pvM;"
   ]
  },
  {
   "cell_type": "code",
   "execution_count": null,
   "metadata": {},
   "outputs": [],
   "source": [
    "pvE = [1.0014019963481986, 0.023596413386838894, 0.01018195925304404, -0.000639155607893068, 0.015722602165727708, 0.0068170176732665335]\n",
    ";"
   ]
  },
  {
   "cell_type": "code",
   "execution_count": null,
   "metadata": {},
   "outputs": [],
   "source": [
    "pvM = [1.0003674329783419, 0.025641175831289952, 0.011164916510692924, -0.0011956034264746331, 0.015524326306986554, 0.006676849606816583]\n",
    ";"
   ]
  },
  {
   "cell_type": "code",
   "execution_count": null,
   "metadata": {},
   "outputs": [],
   "source": [
    "_pv = spkgeo(3, et0, \"J2000\", 0)[1]; pvEMB = _pv/au; pvEMB[4:6]=pvEMB[4:6]*daysec; pvEMB\n",
    "_pv = spkgeo(301, et0, \"J2000\", 399)[1]; pvME = _pv/au; pvME[4:6]=pvME[4:6]*daysec; pvME;"
   ]
  },
  {
   "cell_type": "code",
   "execution_count": null,
   "metadata": {},
   "outputs": [],
   "source": [
    "pvEMB"
   ]
  },
  {
   "cell_type": "code",
   "execution_count": null,
   "metadata": {},
   "outputs": [],
   "source": [
    "pvME"
   ]
  },
  {
   "cell_type": "code",
   "execution_count": null,
   "metadata": {},
   "outputs": [],
   "source": [
    "((pvEMB .- μ[mo]pvME/(μ[ea]+μ[mo])) .- pvE)./pvE"
   ]
  },
  {
   "cell_type": "code",
   "execution_count": null,
   "metadata": {},
   "outputs": [],
   "source": [
    "((pvEMB .+ μ[ea]pvME/(μ[ea]+μ[mo])) .- pvM)./pvM"
   ]
  },
  {
   "cell_type": "code",
   "execution_count": null,
   "metadata": {},
   "outputs": [],
   "source": []
  },
  {
   "cell_type": "markdown",
   "metadata": {},
   "source": [
    "# TODO: Compute eclipses from ephemeris"
   ]
  },
  {
   "cell_type": "code",
   "execution_count": null,
   "metadata": {},
   "outputs": [],
   "source": []
  }
 ],
 "metadata": {
  "kernelspec": {
   "display_name": "Julia 1.9.1",
   "language": "julia",
   "name": "julia-1.9"
  },
  "language_info": {
   "file_extension": ".jl",
   "mimetype": "application/julia",
   "name": "julia",
   "version": "1.9.1"
  }
 },
 "nbformat": 4,
 "nbformat_minor": 4
}
